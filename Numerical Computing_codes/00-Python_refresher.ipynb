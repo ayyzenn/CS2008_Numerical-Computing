{
 "cells": [
  {
   "cell_type": "markdown",
   "metadata": {},
   "source": [
    "# Basic Concepts of Python"
   ]
  },
  {
   "cell_type": "code",
   "execution_count": 1,
   "metadata": {},
   "outputs": [],
   "source": [
    "def good_enough(x , guess):\n",
    "    return abs((guess * guess) - x) < 0.00000000001\n",
    "\n",
    "def improve_guess(x , guess):\n",
    "    return (guess + x/guess)/2\n",
    "\n",
    "def sqrt(x , guess=0.0001):\n",
    "    if good_enough(x, guess):\n",
    "        return guess\n",
    "    else:\n",
    "        return sqrt(x , improve_guess(x , guess))"
   ]
  },
  {
   "cell_type": "code",
   "execution_count": 2,
   "metadata": {},
   "outputs": [
    {
     "data": {
      "text/plain": [
       "6.000000000000008"
      ]
     },
     "execution_count": 2,
     "metadata": {},
     "output_type": "execute_result"
    }
   ],
   "source": [
    "sqrt(36)"
   ]
  },
  {
   "cell_type": "code",
   "execution_count": 3,
   "metadata": {},
   "outputs": [],
   "source": [
    "l = [1,2, 4]"
   ]
  },
  {
   "cell_type": "code",
   "execution_count": 4,
   "metadata": {},
   "outputs": [
    {
     "name": "stdout",
     "output_type": "stream",
     "text": [
      "Square root of 1: 1.0\n",
      "Square root of 2: 1.4142135623730954\n",
      "Square root of 5: 2.23606797749979\n"
     ]
    }
   ],
   "source": [
    "for i in [1,2,5]:\n",
    "    print(\"Square root of \" + str(i) + \": \",   end =\"\")\n",
    "    print(sqrt(i))"
   ]
  },
  {
   "cell_type": "code",
   "execution_count": 5,
   "metadata": {},
   "outputs": [
    {
     "name": "stdout",
     "output_type": "stream",
     "text": [
      "one\n",
      "dict_items([(1, 'one'), (2, 'two')])\n"
     ]
    }
   ],
   "source": [
    "d = {\n",
    "    1:\"one\",\n",
    "    2:\"two\"\n",
    "}\n",
    "\n",
    "print(d[1])\n",
    "print(d.items())"
   ]
  },
  {
   "cell_type": "code",
   "execution_count": 6,
   "metadata": {},
   "outputs": [
    {
     "name": "stdout",
     "output_type": "stream",
     "text": [
      "1 one\n",
      "2 two\n"
     ]
    }
   ],
   "source": [
    "for k , v in d.items():\n",
    "    print(k , v)"
   ]
  },
  {
   "cell_type": "code",
   "execution_count": 7,
   "metadata": {},
   "outputs": [
    {
     "data": {
      "text/plain": [
       "[1, 2]"
      ]
     },
     "execution_count": 7,
     "metadata": {},
     "output_type": "execute_result"
    }
   ],
   "source": [
    "list(d.keys())"
   ]
  },
  {
   "cell_type": "code",
   "execution_count": 8,
   "metadata": {},
   "outputs": [],
   "source": [
    "a = [1,2,3,4,5]\n",
    "b = [6,7,8,9,0]\n",
    "\n",
    "merged = list(zip(a , b))"
   ]
  },
  {
   "cell_type": "code",
   "execution_count": 9,
   "metadata": {},
   "outputs": [
    {
     "data": {
      "text/plain": [
       "[(1, 6), (2, 7), (3, 8), (4, 9), (5, 0)]"
      ]
     },
     "execution_count": 9,
     "metadata": {},
     "output_type": "execute_result"
    }
   ],
   "source": [
    "merged"
   ]
  },
  {
   "cell_type": "code",
   "execution_count": 10,
   "metadata": {},
   "outputs": [
    {
     "data": {
      "text/plain": [
       "{'id': '13', 'name': 'bill', 'location': 'radmond'}"
      ]
     },
     "execution_count": 10,
     "metadata": {},
     "output_type": "execute_result"
    }
   ],
   "source": [
    "fields = [\"id\" , \"name\" , \"location\"]\n",
    "values = [\"13\" , \"bill\" , \"radmond\"]\n",
    "\n",
    "dict(zip(fields, values))"
   ]
  },
  {
   "cell_type": "markdown",
   "metadata": {},
   "source": [
    "# OOP Concepts in Python"
   ]
  },
  {
   "cell_type": "code",
   "execution_count": 11,
   "metadata": {},
   "outputs": [],
   "source": [
    "class Point:\n",
    "    \n",
    "    def __init__(self , x=0 , y=0):\n",
    "        self.x = x\n",
    "        self.y = y\n",
    "    def __str__(self):\n",
    "        return \"[\" + str(self.x) + \",\" + str(self.y) + \"]\""
   ]
  },
  {
   "cell_type": "code",
   "execution_count": 12,
   "metadata": {},
   "outputs": [
    {
     "name": "stdout",
     "output_type": "stream",
     "text": [
      "p1 = 0\n",
      "p1 = [0,0]\n",
      "\n",
      "\n",
      "p2 = 2\n",
      "p2 = [2,4]\n"
     ]
    }
   ],
   "source": [
    "p1 = Point()\n",
    "print(\"p1 =\",p1.x)\n",
    "print(\"p1 =\",p1)\n",
    "\n",
    "print('\\n')\n",
    "\n",
    "p2 = Point(2,4)\n",
    "print(\"p2 =\",p2.x)\n",
    "print(\"p2 =\",p2)"
   ]
  },
  {
   "cell_type": "markdown",
   "metadata": {},
   "source": [
    "# Composition"
   ]
  },
  {
   "cell_type": "code",
   "execution_count": 13,
   "metadata": {},
   "outputs": [],
   "source": [
    "class Shape:\n",
    "    def __init__(self , points):\n",
    "        self.points = points\n",
    "    def __str__(self):\n",
    "        ret = \"\"\n",
    "        for i in self.points:\n",
    "            ret += str(i) + \" - \"\n",
    "        return ret"
   ]
  },
  {
   "cell_type": "code",
   "execution_count": 14,
   "metadata": {},
   "outputs": [
    {
     "name": "stdout",
     "output_type": "stream",
     "text": [
      "[5,5] - [10,5] - [5,10] - \n"
     ]
    }
   ],
   "source": [
    "p1 = Point(5,5)\n",
    "p2 = Point(10,5)\n",
    "p3 = Point(5,10)\n",
    "\n",
    "p = [p1 , p2 , p3]\n",
    "\n",
    "sh = Shape(p)\n",
    "print(sh)"
   ]
  },
  {
   "cell_type": "code",
   "execution_count": 15,
   "metadata": {},
   "outputs": [],
   "source": [
    "def print_points(self):\n",
    "    for i in self.points:\n",
    "        print(i)\n",
    "\n",
    "Shape.print_points = print_points"
   ]
  },
  {
   "cell_type": "code",
   "execution_count": 16,
   "metadata": {},
   "outputs": [
    {
     "name": "stdout",
     "output_type": "stream",
     "text": [
      "[5,5]\n",
      "[10,5]\n",
      "[5,10]\n"
     ]
    }
   ],
   "source": [
    "sh.print_points()"
   ]
  },
  {
   "cell_type": "markdown",
   "metadata": {},
   "source": [
    "# Inheritance"
   ]
  },
  {
   "cell_type": "code",
   "execution_count": 17,
   "metadata": {},
   "outputs": [],
   "source": [
    "class Triangles(Shape):\n",
    "    pass\n"
   ]
  },
  {
   "cell_type": "code",
   "execution_count": 18,
   "metadata": {},
   "outputs": [],
   "source": [
    "t = Triangles(p)"
   ]
  },
  {
   "cell_type": "code",
   "execution_count": 19,
   "metadata": {},
   "outputs": [
    {
     "name": "stdout",
     "output_type": "stream",
     "text": [
      "[5,5]\n",
      "[10,5]\n",
      "[5,10]\n"
     ]
    }
   ],
   "source": [
    "t.print_points()"
   ]
  },
  {
   "cell_type": "markdown",
   "metadata": {},
   "source": [
    "# Accessing Parent class overridden methods"
   ]
  },
  {
   "cell_type": "code",
   "execution_count": 20,
   "metadata": {},
   "outputs": [],
   "source": [
    "class Rectangle:\n",
    "    def __init__(self , lenght , width):\n",
    "        self.lenght = lenght\n",
    "        self.width = width\n",
    "    def area(self):\n",
    "        return self.lenght * self.width\n",
    "    def perimeter(self):\n",
    "        return 2* self.lenght + 2*self.width\n",
    "    def __str__(self):\n",
    "        return \"Length: \" + str(self.lenght) + \"\\nWidth: \" + str(self.width)"
   ]
  },
  {
   "cell_type": "code",
   "execution_count": 21,
   "metadata": {},
   "outputs": [
    {
     "name": "stdout",
     "output_type": "stream",
     "text": [
      "Length: 2\n",
      "Width: 4\n"
     ]
    }
   ],
   "source": [
    "rect = Rectangle(2,4)\n",
    "print(rect)"
   ]
  },
  {
   "cell_type": "code",
   "execution_count": 22,
   "metadata": {},
   "outputs": [],
   "source": [
    "class Square(Rectangle):\n",
    "    def __init__(self , length):\n",
    "        super().__init__(length , length)\n",
    "    \n",
    "    def __str__(self):\n",
    "        return \"Square: \" + super().__str__()"
   ]
  },
  {
   "cell_type": "code",
   "execution_count": 23,
   "metadata": {},
   "outputs": [
    {
     "data": {
      "text/plain": [
       "16"
      ]
     },
     "execution_count": 23,
     "metadata": {},
     "output_type": "execute_result"
    }
   ],
   "source": [
    "square= Square(4)\n",
    "square.area()"
   ]
  },
  {
   "cell_type": "code",
   "execution_count": 24,
   "metadata": {},
   "outputs": [
    {
     "name": "stdout",
     "output_type": "stream",
     "text": [
      "Square: Length: 4\n",
      "Width: 4\n"
     ]
    }
   ],
   "source": [
    "print(square)"
   ]
  },
  {
   "cell_type": "code",
   "execution_count": null,
   "metadata": {},
   "outputs": [],
   "source": []
  }
 ],
 "metadata": {
  "kernelspec": {
   "display_name": "Python 3",
   "language": "python",
   "name": "python3"
  },
  "language_info": {
   "codemirror_mode": {
    "name": "ipython",
    "version": 3
   },
   "file_extension": ".py",
   "mimetype": "text/x-python",
   "name": "python",
   "nbconvert_exporter": "python",
   "pygments_lexer": "ipython3",
   "version": "3.8.10"
  }
 },
 "nbformat": 4,
 "nbformat_minor": 4
}
